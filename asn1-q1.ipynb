{
 "cells": [
  {
   "cell_type": "markdown",
   "metadata": {
    "collapsed": true
   },
   "source": [
    "# Step 1: Implement the vector median filter for colour images.\n",
    "\n",
    "Write a function that implements the vector median filter.  Details on the vector median filter can be found in Topic 4 of the lecture notes and implementation hints are available in the assignment description PDF.   \n",
    "\n",
    "The parameters to your function should be the input image `I`, and the `radius` of the square neighbourhood, e.g. radius 1 = 3x3 filter, radius 2 = 5x5 filter, etc.\n",
    "\n",
    "Your function should accept images of dtype `uint8` or `float`.    It is easiest if you work with the image as data type `float`.   If the input image is of type `uint8`, it is suggested that you convert it to dtype `float`, construct the output image also as type `float` and then convert it back to `uint8` before returning it.  In any case, the output image returned should be the same dtype as the input image."
   ]
  },
  {
   "cell_type": "code",
   "execution_count": 129,
   "metadata": {
    "collapsed": true
   },
   "outputs": [],
   "source": [
    "\n",
    "# Handing this in, I know I'm not done, but I want to be able to wrap my head \n",
    "# around these vectors even if I don't get credit\n",
    "# If I can get help after the weekend I'd appreciate it\n",
    "#\n",
    "# code hosted at github.com/satiowadahc/CMPT487A1\n",
    "\n",
    "import numpy as np\n",
    "import skimage.util as util\n",
    "\n",
    "def vector_median(I, radius):\n",
    "    \n",
    "    # Check for float\n",
    "    if I.dtype == 'uint8':\n",
    "        I = util.img_as_float(I)\n",
    "        \n",
    "    #set dimensions\n",
    "    maxX = I.shape[0]\n",
    "    maxY = I.shape[1]\n",
    "    \n",
    "    # Loop over all the pixels\n",
    "    for r in range(maxX):\n",
    "        for c in range(maxY):\n",
    "\n",
    "            # Creating Y vector\n",
    "            yVector = []\n",
    "            xVector = []\n",
    "             \n",
    "            print('Centered at: ', r, c)    \n",
    "            # pixel centred around r,c    \n",
    "            for xr in range(-radius, radius+1, 1):\n",
    "                # Avoid edges\n",
    "                if 0 > xr+r or maxX < xr+r:\n",
    "                    print('Skipping: ', xr, ', ', c)\n",
    "                    pass\n",
    "                else:\n",
    "                    print('Adding: ', xr, ', ', c)\n",
    "                    xVector.append(I[xr+r, c])\n",
    "                \n",
    "            for yr in range(-radius, radius+1, 1):\n",
    "                # Avoid edges\n",
    "                if 0 > yr+c or maxY < yr+c:\n",
    "                    print('Skipping: ', r, ', ', yr)\n",
    "                    pass\n",
    "                else:\n",
    "                    print('Adding: ', r, ', ', yr)\n",
    "                    yVector.append(I[r, yr+c])\n",
    "                    \n",
    "            print('yVector')\n",
    "            print(np.asarray(yVector))\n",
    "            print('xVector')\n",
    "            print(np.asarray(xVector))\n",
    "            \n",
    "    plt.imshow(np.asarray(yVector))\n",
    "    return"
   ]
  },
  {
   "cell_type": "code",
   "execution_count": 130,
   "metadata": {
    "collapsed": true
   },
   "outputs": [
    {
     "name": "stdout",
     "output_type": "stream",
     "text": [
      " \n \n \n \n \nCentered at:  0 0\nSkipping:  -1 ,  0\nAdding:  0 ,  0\nAdding:  1 ,  0\nSkipping:  0 ,  -1\nAdding:  0 ,  0\nAdding:  0 ,  1\nyVector\n[[0.41960784 0.52156863 0.51764706]\n [0.45490196 0.49803922 0.59215686]]\nxVector\n[[0.41960784 0.52156863 0.51764706]\n [0.51764706 0.42352941 0.5254902 ]]\nCentered at:  0 1\nSkipping:  -1 ,  1\nAdding:  0 ,  1\nAdding:  1 ,  1\nAdding:  0 ,  -1\nAdding:  0 ,  0\nAdding:  0 ,  1\nyVector\n[[0.41960784 0.52156863 0.51764706]\n [0.45490196 0.49803922 0.59215686]\n [0.44313725 0.6        0.60392157]]\nxVector\n[[0.45490196 0.49803922 0.59215686]\n [0.39215686 0.5254902  0.4745098 ]]\nCentered at:  0 2\nSkipping:  -1 ,  2\nAdding:  0 ,  2\nAdding:  1 ,  2\nAdding:  0 ,  -1\nAdding:  0 ,  0\nAdding:  0 ,  1\nyVector\n[[0.45490196 0.49803922 0.59215686]\n [0.44313725 0.6        0.60392157]\n [0.42352941 0.32156863 0.58039216]]\nxVector\n[[0.44313725 0.6        0.60392157]\n [1.         1.         1.        ]]\nCentered at:  0 3\nSkipping:  -1 ,  3\nAdding:  0 ,  3\nAdding:  1 ,  3\nAdding:  0 ,  -1\nAdding:  0 ,  0\nAdding:  0 ,  1\nyVector\n[[0.44313725 0.6        0.60392157]\n [0.42352941 0.32156863 0.58039216]\n [0.41960784 0.36078431 0.50196078]]\nxVector\n[[0.42352941 0.32156863 0.58039216]\n [0.48235294 0.51764706 0.55686275]]\nCentered at:  0 4\nSkipping:  -1 ,  4\nAdding:  0 ,  4\nAdding:  1 ,  4\nAdding:  0 ,  -1\nAdding:  0 ,  0\nAdding:  0 ,  1\n"
     ]
    },
    {
     "ename": "IndexError",
     "evalue": "index 5 is out of bounds for axis 1 with size 5",
     "traceback": [
      "\u001b[0;31m---------------------------------------------------------------------------\u001b[0m",
      "\u001b[0;31mIndexError\u001b[0m                                Traceback (most recent call last)",
      "\u001b[0;32m<ipython-input-130-63c5f60d7168>\u001b[0m in \u001b[0;36m<module>\u001b[0;34m()\u001b[0m\n\u001b[1;32m     18\u001b[0m \u001b[0mt\u001b[0m \u001b[0;34m=\u001b[0m \u001b[0mnp\u001b[0m\u001b[0;34m.\u001b[0m\u001b[0mreshape\u001b[0m\u001b[0;34m(\u001b[0m\u001b[0mnp\u001b[0m\u001b[0;34m.\u001b[0m\u001b[0masarray\u001b[0m\u001b[0;34m(\u001b[0m\u001b[0mtest\u001b[0m\u001b[0;34m)\u001b[0m\u001b[0;34m,\u001b[0m \u001b[0;34m[\u001b[0m\u001b[0;36m5\u001b[0m\u001b[0;34m,\u001b[0m \u001b[0;36m5\u001b[0m\u001b[0;34m,\u001b[0m \u001b[0;36m3\u001b[0m\u001b[0;34m]\u001b[0m\u001b[0;34m)\u001b[0m\u001b[0;34m\u001b[0m\u001b[0m\n\u001b[1;32m     19\u001b[0m \u001b[0;34m\u001b[0m\u001b[0m\n\u001b[0;32m---> 20\u001b[0;31m \u001b[0mvector_median\u001b[0m\u001b[0;34m(\u001b[0m\u001b[0mt\u001b[0m\u001b[0;34m,\u001b[0m \u001b[0;36m1\u001b[0m\u001b[0;34m)\u001b[0m\u001b[0;34m\u001b[0m\u001b[0m\n\u001b[0m\u001b[1;32m     21\u001b[0m \u001b[0mplt\u001b[0m\u001b[0;34m.\u001b[0m\u001b[0mimshow\u001b[0m\u001b[0;34m(\u001b[0m\u001b[0mt\u001b[0m\u001b[0;34m)\u001b[0m\u001b[0;34m\u001b[0m\u001b[0m\n",
      "\u001b[0;32m<ipython-input-129-78120a21dae5>\u001b[0m in \u001b[0;36mvector_median\u001b[0;34m(I, radius)\u001b[0m\n\u001b[1;32m     46\u001b[0m                 \u001b[0;32melse\u001b[0m\u001b[0;34m:\u001b[0m\u001b[0;34m\u001b[0m\u001b[0m\n\u001b[1;32m     47\u001b[0m                     \u001b[0mprint\u001b[0m\u001b[0;34m(\u001b[0m\u001b[0;34m'Adding: '\u001b[0m\u001b[0;34m,\u001b[0m \u001b[0mr\u001b[0m\u001b[0;34m,\u001b[0m \u001b[0;34m', '\u001b[0m\u001b[0;34m,\u001b[0m \u001b[0myr\u001b[0m\u001b[0;34m)\u001b[0m\u001b[0;34m\u001b[0m\u001b[0m\n\u001b[0;32m---> 48\u001b[0;31m                     \u001b[0myVector\u001b[0m\u001b[0;34m.\u001b[0m\u001b[0mappend\u001b[0m\u001b[0;34m(\u001b[0m\u001b[0mI\u001b[0m\u001b[0;34m[\u001b[0m\u001b[0mr\u001b[0m\u001b[0;34m,\u001b[0m \u001b[0myr\u001b[0m\u001b[0;34m+\u001b[0m\u001b[0mc\u001b[0m\u001b[0;34m]\u001b[0m\u001b[0;34m)\u001b[0m\u001b[0;34m\u001b[0m\u001b[0m\n\u001b[0m\u001b[1;32m     49\u001b[0m \u001b[0;34m\u001b[0m\u001b[0m\n\u001b[1;32m     50\u001b[0m             \u001b[0mprint\u001b[0m\u001b[0;34m(\u001b[0m\u001b[0;34m'yVector'\u001b[0m\u001b[0;34m)\u001b[0m\u001b[0;34m\u001b[0m\u001b[0m\n",
      "\u001b[0;31mIndexError\u001b[0m: index 5 is out of bounds for axis 1 with size 5"
     ],
     "output_type": "error"
    }
   ],
   "source": [
    "# on linux '/images/noisy/8049.png'\n",
    "# on windows 'C:/Users/woita/PycharmProjects/CMPT487A1/images/noisy/8049.png'\n",
    "\n",
    "import skimage.io as io\n",
    "import matplotlib.pyplot as plt\n",
    "import numpy as np\n",
    "i = io.imread('C:/Users/woita/PycharmProjects/CMPT487A1/images/noisy/8049.png')\n",
    "\n",
    "test = []\n",
    "\n",
    "for xp in range(5):\n",
    "    for yp in range(5):       \n",
    "        # print(i[xp][yp], end=' ')\n",
    "        test.append(i[xp][yp])\n",
    "    print(' ')\n",
    "\n",
    "# Testing on small subset to help figure this out    \n",
    "t = np.reshape(np.asarray(test), [5, 5, 3])\n",
    "\n",
    "vector_median(t, 1)\n",
    "plt.imshow(t)"
   ]
  },
  {
   "cell_type": "markdown",
   "metadata": {},
   "source": [
    "# Step 2: Establish a Baseline\n",
    "\n",
    "Determine the PSNR and SSIM of all of the noisy images by comparing them to their noiseless versions -- store these in a list. \n",
    "\n",
    "Filter each noisy image with a 3x3 vector median filter and compute the PSNR and SSIM of all of the filtered noisy images (by comparing them to the noiseless images) -- store these in a list.  \n",
    "\n",
    "The noiseless images are provided so you can compute PSNR and SSIM.  See functions `skimage.measure.compare_psnr()` and `skimage.measure.compare_ssim()`.  You'll need the `multichannel=true` argument for `compare_ssim()`.\n",
    "\n",
    "_Hint: This step requires doing a few seemingly different things, but it's actually easier to do them all at once in the same loop._\n"
   ]
  },
  {
   "cell_type": "code",
   "execution_count": 2,
   "metadata": {
    "collapsed": true
   },
   "outputs": [],
   "source": [
    "# Some modules you might need.\n",
    "\n",
    "import skimage.io as io\n",
    "import os as os\n",
    "import skimage.filters as filt\n",
    "import skimage.measure as meas\n",
    "import skimage.util as util\n",
    "import numpy as np\n",
    "\n",
    "%matplotlib inline\n",
    "\n",
    "\n",
    "# For every file in the noisy images folder...\n",
    "for root, dirs, files in os.walk('images/noisy-test'):\n",
    "    for filename in files:\n",
    "        \n",
    "        # construct the full filename\n",
    "        fname = os.path.join(root, filename)\n",
    "        \n",
    "        # In case these metadata files show up in the folders, ignore them.\n",
    "        if filename == '.DS_Store':   \n",
    "            continue\n",
    "        \n",
    "        # Process image noisy file 'fname' here.  The images have the same filenames name in the \n",
    "        # noisy, noisy-test, and noiseless folders.  You'll have to construct the path to the\n",
    "        # noiseless images yourself.  It's easy using os.path.join(), as above."
   ]
  },
  {
   "cell_type": "markdown",
   "metadata": {},
   "source": [
    "# Step 2: Compute average baseline metrics.\n",
    "\n",
    "Compute the average PSNR and SSIM for the unfiltered noisy images (take the PSNR and SSIM measures for each image and average them).  Do the same for the median-filtered noisy images.  Plot a bar graph showing the two mean PSNR values and another showing the two mean SSIM values before and after filtering (see assignment description for sample output)."
   ]
  },
  {
   "cell_type": "code",
   "execution_count": 3,
   "metadata": {
    "collapsed": true
   },
   "outputs": [],
   "source": [
    "# some modules you might need.\n",
    "\n",
    "import matplotlib.pyplot as plt\n",
    "import numpy as np"
   ]
  },
  {
   "cell_type": "markdown",
   "metadata": {},
   "source": [
    "# Step 3:  See if you can do better!\n",
    "\n",
    "Find a better way to denoise the images.  Compute the mean PSNR and SSIM for your denoising method.   Replot the graphs in the previous step with the new results added.\n",
    "\n",
    "_You can use any functions in the python libraries to help you (numpy, scipy, skimage, etc.) but you cannot bring in code from external sources._\n"
   ]
  },
  {
   "cell_type": "code",
   "execution_count": 4,
   "metadata": {},
   "outputs": [],
   "source": [
    "# Write your de-noising method here."
   ]
  }
 ],
 "metadata": {
  "kernelspec": {
   "display_name": "Python 3",
   "language": "python",
   "name": "python3"
  },
  "language_info": {
   "codemirror_mode": {
    "name": "ipython",
    "version": 3
   },
   "file_extension": ".py",
   "mimetype": "text/x-python",
   "name": "python",
   "nbconvert_exporter": "python",
   "pygments_lexer": "ipython3",
   "version": "3.6.1"
  }
 },
 "nbformat": 4,
 "nbformat_minor": 1
}
